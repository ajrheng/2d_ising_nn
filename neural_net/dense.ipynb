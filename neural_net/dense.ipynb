{
 "cells": [
  {
   "cell_type": "markdown",
   "metadata": {},
   "source": [
    "# Traditional Dense NN"
   ]
  },
  {
   "cell_type": "code",
   "execution_count": 310,
   "metadata": {},
   "outputs": [],
   "source": [
    "from keras.models import Sequential\n",
    "from keras.layers import Dense\n",
    "from keras.layers.noise import GaussianDropout\n",
    "from keras import *\n",
    "from keras import backend as K\n",
    "\n",
    "import numpy as np\n",
    "import matplotlib.pyplot as plt"
   ]
  },
  {
   "cell_type": "markdown",
   "metadata": {},
   "source": [
    "Load MCMC data"
   ]
  },
  {
   "cell_type": "code",
   "execution_count": 311,
   "metadata": {},
   "outputs": [],
   "source": [
    "loaded = np.load('/home/alvin/Desktop/2d_ising_nn/data/data.npz')\n",
    "inputs = loaded['a']\n",
    "results = loaded['b']\n",
    "temp = loaded['c']\n",
    "magnetization = loaded['d']\n",
    "num_samples = len(inputs)"
   ]
  },
  {
   "cell_type": "markdown",
   "metadata": {},
   "source": [
    "Split training and validation data"
   ]
  },
  {
   "cell_type": "code",
   "execution_count": 312,
   "metadata": {},
   "outputs": [],
   "source": [
    "training_inputs = np.copy(inputs[:int(0.9*num_samples)])\n",
    "training_results = np.copy(results[:int(0.9*num_samples)])\n",
    "training_temp = np.copy(temp[:int(0.9*num_samples)])\n",
    "\n",
    "valid_inputs = np.copy(inputs[int(0.9*num_samples):])\n",
    "valid_results = np.copy(results[int(0.9*num_samples):])\n",
    "valid_temp = np.copy(temp[int(0.9*num_samples):])"
   ]
  },
  {
   "cell_type": "code",
   "execution_count": 313,
   "metadata": {},
   "outputs": [],
   "source": [
    "l = int( np.sqrt(training_inputs.shape[1]) )"
   ]
  },
  {
   "cell_type": "code",
   "execution_count": 314,
   "metadata": {},
   "outputs": [],
   "source": [
    "net = Sequential()\n",
    "#try network with input x 150 x 2\n",
    "net.add(Dense(100, input_shape = (l*l,), activation = 'relu'))\n",
    "#net.add(GaussianDropout(0.1))\n",
    "#net.add(Dense(50, activation = 'relu'))\n",
    "net.add(Dense(2,activation='softmax'))\n",
    "net.compile(loss='categorical_crossentropy', optimizer=optimizers.SGD(lr=0.05), metrics=['categorical_accuracy'])"
   ]
  },
  {
   "cell_type": "code",
   "execution_count": 315,
   "metadata": {},
   "outputs": [],
   "source": [
    "# epochs = 100\n",
    "# cost = np.zeros(epochs)\n",
    "# for i in range(epochs):\n",
    "#     cost[i] = net.train_on_batch(training_data,training_results)[0]"
   ]
  },
  {
   "cell_type": "code",
   "execution_count": 316,
   "metadata": {
    "scrolled": true
   },
   "outputs": [],
   "source": [
    "history=net.fit(training_inputs,training_results,batch_size=100,\n",
    "                epochs=200,validation_split=0,verbose =0)"
   ]
  },
  {
   "cell_type": "markdown",
   "metadata": {},
   "source": [
    "## Plot accuracy"
   ]
  },
  {
   "cell_type": "code",
   "execution_count": 320,
   "metadata": {},
   "outputs": [
    {
     "data": {
      "image/png": "[encoded data removed]",
      "text/plain": [
       "<Figure size 432x288 with 1 Axes>"
      ]
     },
     "metadata": {
      "needs_background": "light"
     },
     "output_type": "display_data"
    }
   ],
   "source": [
    "fig=plt.figure()\n",
    "plt.plot(history.history['categorical_accuracy'], linewidth=3)\n",
    "#plt.plot(history.history['val_categorical_accuracy'], linewidth=3)\n",
    "plt.show()"
   ]
  },
  {
   "cell_type": "markdown",
   "metadata": {},
   "source": [
    "Run the network on validation set and see how it performs"
   ]
  },
  {
   "cell_type": "code",
   "execution_count": 336,
   "metadata": {},
   "outputs": [],
   "source": [
    "get_layer_output = K.function(inputs = net.layers[0].input, outputs = net.layers[-1].output)\n",
    "output = get_layer_output(valid_inputs) #get output neuron values for validationinputs"
   ]
  },
  {
   "cell_type": "code",
   "execution_count": 337,
   "metadata": {},
   "outputs": [],
   "source": [
    "net_output_temp = []\n",
    "for i in range(len(output)):\n",
    "    net_output_temp.append((output[i][0],output[i][1],valid_temp[i]))"
   ]
  },
  {
   "cell_type": "code",
   "execution_count": 338,
   "metadata": {},
   "outputs": [],
   "source": [
    "sorted_output = sorted(net_output_temp, key = lambda x: x[2])\n",
    "para_neuron_output, ferro_neuron_output, output_temp = zip(*sorted_output)"
   ]
  },
  {
   "cell_type": "code",
   "execution_count": 339,
   "metadata": {},
   "outputs": [
    {
     "data": {
      "image/png": "[encoded data removed]",
      "text/plain": [
       "<Figure size 432x288 with 1 Axes>"
      ]
     },
     "metadata": {
      "needs_background": "light"
     },
     "output_type": "display_data"
    }
   ],
   "source": [
    "tc = 2/np.log(1+np.sqrt(2))\n",
    "plt.plot(output_temp,ferro_neuron_output,'.',label='ferro neuron')\n",
    "plt.plot(output_temp,para_neuron_output,'.',label='para neuron')\n",
    "ax = plt.gca()\n",
    "ax.axvline(tc,c='k')\n",
    "plt.legend()\n",
    "plt.show()"
   ]
  },
  {
   "cell_type": "markdown",
   "metadata": {},
   "source": [
    "No surprises that a neural net is able to do image recognition and distinguish the ferromagnetic from the paramagnetic phase for the 2D Ising model."
   ]
  },
  {
   "cell_type": "code",
   "execution_count": null,
   "metadata": {},
   "outputs": [],
   "source": []
  }
 ],
 "metadata": {
  "kernelspec": {
   "display_name": "Python 3",
   "language": "python",
   "name": "python3"
  },
  "language_info": {
   "codemirror_mode": {
    "name": "ipython",
    "version": 3
   },
   "file_extension": ".py",
   "mimetype": "text/x-python",
   "name": "python",
   "nbconvert_exporter": "python",
   "pygments_lexer": "ipython3",
   "version": "3.7.4"
  }
 },
 "nbformat": 4,
 "nbformat_minor": 2
}
